{
 "cells": [
  {
   "cell_type": "code",
   "execution_count": null,
   "metadata": {},
   "outputs": [
    {
     "name": "stdout",
     "output_type": "stream",
     "text": [
      "Welcome to Izifin ATR Calculator by Prosperity Tech\n",
      "\n",
      "Dear Prosperity Olorunfemi, your Annual Tax Revenue (ATR) is N550,000\n",
      "Thanks for using Izifin ATR Calculator, try again when you're older🙃\n"
     ]
    }
   ],
   "source": [
    "print(\"Welcome to Izifin ATR Calculator by Prosperity Tech\")\n",
    "\n",
    "staff_name = input('What is your full name: ')\n",
    "staff_age = int(input('What is your age: '))\n",
    "staff_y_o_e = int(input(\"How many year's of experience do you have: \"))\n",
    "\n",
    "if staff_y_o_e >= 25 and staff_age >= 55 :\n",
    "    print(f\"\\nDear {staff_name}, your Annual Tax Revenue (ATR) is N5,600,000\")\n",
    "    print('Thanks for using Izifin ATR Calculator')\n",
    "\n",
    "elif staff_y_o_e >= 20 and staff_age >= 45 :\n",
    "    print(f\"\\nDear {staff_name}, your Annual Tax Revenue (ATR) is N4,480,000\")\n",
    "    print('Thanks for using Izifin ATR Calculator')\n",
    "\n",
    "elif staff_y_o_e >= 10 and staff_age >= 35 :\n",
    "    print(f\"\\nDear {staff_name}, your Annual Tax Revenue (ATR) is N1,500,000\")\n",
    "    print('Thanks for using Izifin ATR Calculator')\n",
    "\n",
    "else :\n",
    "    print(f\"\\nDear {staff_name}, your Annual Tax Revenue (ATR) is N550,000\")\n",
    "    print(\"Thanks for using Izifin ATR Calculator, try again for better ATR when you're older🙃\")\n"
   ]
  },
  {
   "cell_type": "code",
   "execution_count": null,
   "metadata": {},
   "outputs": [],
   "source": []
  }
 ],
 "metadata": {
  "kernelspec": {
   "display_name": "Python 3",
   "language": "python",
   "name": "python3"
  },
  "language_info": {
   "codemirror_mode": {
    "name": "ipython",
    "version": 3
   },
   "file_extension": ".py",
   "mimetype": "text/x-python",
   "name": "python",
   "nbconvert_exporter": "python",
   "pygments_lexer": "ipython3",
   "version": "3.13.2"
  }
 },
 "nbformat": 4,
 "nbformat_minor": 2
}
