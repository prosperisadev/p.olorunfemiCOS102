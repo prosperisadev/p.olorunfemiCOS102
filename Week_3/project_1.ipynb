{
 "cells": [
  {
   "cell_type": "code",
   "execution_count": 5,
   "metadata": {},
   "outputs": [
    {
     "name": "stdout",
     "output_type": "stream",
     "text": [
      "Computer Science Year 1 Girls Database\n",
      "      Name  Age  Height  Score\n",
      "0   Evelyn   17     5.5     80\n",
      "1  Jessica   16     6.0     85\n",
      "2    Somto   17     5.4     70\n",
      "3    Edith   18     5.9     60\n",
      "4     Lisa   16     5.6     76\n",
      "5  Madonna   18     5.5     66\n",
      "6     Waje   17     6.1     87\n",
      "7     Tola   20     6.0     95\n",
      "8    Aisha   19     5.7     50\n",
      "9   Latifa   17     5.5     49\n",
      "\n",
      "\n",
      "Computer Science Year 1 Boys Database\n",
      "      Name  Age  Height  Score\n",
      "0  Chinedu   19     5.7     74\n",
      "1     Liam   16     5.9     87\n",
      "2     Wale   18     5.8     75\n",
      "3   Gbenga   17     6.1     68\n",
      "4   Abiola   20     5.9     66\n",
      "5     Kola   19     5.5     78\n",
      "6    Kunle   16     6.1     87\n",
      "7   George   18     5.4     98\n",
      "8   Thomas   17     5.8     54\n",
      "9   Wesley   19     5.7     60\n"
     ]
    }
   ],
   "source": [
    "#Import Pandas library\n",
    "import pandas as pd\n",
    "\n",
    "#Initialize Girls Data\n",
    "girls_names = ['Evelyn', 'Jessica', 'Somto', 'Edith', 'Lisa', \n",
    "         'Madonna', 'Waje', 'Tola', 'Aisha', 'Latifa']\n",
    "\n",
    "girls_age = [17, 16, 17, 18, 16, 18, 17, 20, 19, 17]\n",
    "\n",
    "girls_height = [5.5, 6.0, 5.4, 5.9, 5.6, 5.5, 6.1, 6.0, 5.7, 5.5]\n",
    "\n",
    "girls_score = [80, 85, 70, 60, 76, 66, 87, 95, 50, 49]\n",
    "\n",
    "#Use pandas to structure data in row format\n",
    "gdf = pd.DataFrame({\n",
    "    'Name': girls_names,\n",
    "    'Age': girls_age,\n",
    "    'Height': girls_height,\n",
    "    'Score': girls_score\n",
    "})\n",
    "\n",
    "#Print Database\n",
    "print('Computer Science Year 1 Girls Database')\n",
    "print(gdf)\n",
    "\n",
    "#Initialize Boys Data\n",
    "boys_names = ['Chinedu', 'Liam', 'Wale', 'Gbenga', 'Abiola', \n",
    "         'Kola', 'Kunle', 'George', 'Thomas', 'Wesley']\n",
    "\n",
    "boys_age = [19, 16, 18, 17, 20, 19, 16, 18, 17, 19]\n",
    "\n",
    "boys_height = [5.7, 5.9, 5.8, 6.1, 5.9, 5.5, 6.1, 5.4, 5.8, 5.7]\n",
    "\n",
    "boys_score = [74, 87, 75, 68, 66, 78, 87, 98, 54, 60]\n",
    "\n",
    "#Use pandas to structure boys data in row format\n",
    "bdf = pd.DataFrame({\n",
    "    'Name': boys_names,\n",
    "    'Age': boys_age,\n",
    "    'Height': boys_height,\n",
    "    'Score': boys_score\n",
    "})\n",
    "\n",
    "#Print Database\n",
    "print('\\n\\nComputer Science Year 1 Boys Database')\n",
    "print(bdf)"
   ]
  },
  {
   "cell_type": "code",
   "execution_count": null,
   "metadata": {},
   "outputs": [],
   "source": []
  }
 ],
 "metadata": {
  "kernelspec": {
   "display_name": "Python 3",
   "language": "python",
   "name": "python3"
  },
  "language_info": {
   "codemirror_mode": {
    "name": "ipython",
    "version": 3
   },
   "file_extension": ".py",
   "mimetype": "text/x-python",
   "name": "python",
   "nbconvert_exporter": "python",
   "pygments_lexer": "ipython3",
   "version": "3.13.2"
  }
 },
 "nbformat": 4,
 "nbformat_minor": 2
}
