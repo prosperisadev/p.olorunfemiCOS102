{
 "cells": [
  {
   "cell_type": "markdown",
   "metadata": {},
   "source": [
    "#PSEUDOCODE FOR STORE CHECKOUT"
   ]
  },
  {
   "cell_type": "markdown",
   "metadata": {},
   "source": [
    "BEGIN\n",
    "    PRINT \"Welcome to the Prosperity Store Checkout System\"\n",
    "    \n",
    "    INPUT total_amount_in_card\n",
    "    INPUT amount_payable_for_products\n",
    "    \n",
    "    IF amount_payable_for_products < total_amount_in_card THEN\n",
    "        PRINT \"Insufficient payment. Please enter a valid amount.\"\n",
    "    ELSE\n",
    "        change ← total_amount_in_card - amount_payable_for_products\n",
    "        DISPLAY \"Your payment is successful!\"\n",
    "        DISPLAY \"Your change is: \" + change\n",
    "        \n",
    "        PRINT receipt\n",
    "    END IF\n",
    "    \n",
    "    PRINT \"Thank you for shopping with us!\"\n",
    "END\n"
   ]
  },
  {
   "cell_type": "markdown",
   "metadata": {},
   "source": [
    "#PSEUDOCODE FOR SWAPPING AGES"
   ]
  },
  {
   "cell_type": "markdown",
   "metadata": {},
   "source": [
    "BEGIN\n",
    "    INPUT first_guy_name, first_guy_age\n",
    "    INPUT second_guy_name, second_guy_age\n",
    "    \n",
    "    PRINT \"Before swapping:\"\n",
    "    PRINT first_guy_name + \" is \" + first_guy_age + \" years old\"\n",
    "    PRINT second_guy_name + \" is \" + second_guy_age + \" years old\"\n",
    "    \n",
    "    // Swapping the ages\n",
    "    temp_1 ← first_guy_age\n",
    "    temp_2 ← second_guy_age\n",
    "    \n",
    "    PRINT \"After swapping:\"\n",
    "    PRINT first_guy_name + \" is now \" + temp_2 + \" years old\"\n",
    "    PRINT second_guy_name + \" is now \" + temp_1 + \" years old\"\n",
    "END"
   ]
  }
 ],
 "metadata": {
  "language_info": {
   "name": "python"
  }
 },
 "nbformat": 4,
 "nbformat_minor": 2
}
